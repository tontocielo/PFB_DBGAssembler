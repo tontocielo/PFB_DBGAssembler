{
 "cells": [
  {
   "cell_type": "code",
   "execution_count": 13,
   "metadata": {},
   "outputs": [
    {
     "name": "stdout",
     "output_type": "stream",
     "text": [
      "2948620 kmers gathered in the dictionary\n",
      "7\n",
      "18 58\n"
     ]
    },
    {
     "data": {
      "image/png": "[encoded data removed]",
      "text/plain": [
       "<Figure size 432x288 with 1 Axes>"
      ]
     },
     "metadata": {
      "needs_background": "light"
     },
     "output_type": "display_data"
    },
    {
     "data": {
      "image/png": "[encoded data removed]",
      "text/plain": [
       "<Figure size 432x288 with 1 Axes>"
      ]
     },
     "metadata": {
      "needs_background": "light"
     },
     "output_type": "display_data"
    }
   ],
   "source": [
    "import sys\n",
    "import getopt\n",
    "import re\n",
    "import matplotlib.pyplot as plt\n",
    "import statistics as st\n",
    "import numpy as np\n",
    "def rev_comp(x):\n",
    "  output =  x.lower().replace('a', 'T').replace('t', 'A').replace('g','C').replace('c','G')[::-1]\n",
    "  return output\n",
    "\n",
    "#-----------------Count unique kmers---------------------------------------\n",
    "def kmer_count(inputfile, kmer_length):\n",
    "   FILE = open(inputfile, 'r')\n",
    "   if kmer_length % 2 == 0: raise ValueError('Kmer length cannot be an even number')\n",
    "   kmers = {}\n",
    "   for line in FILE:\n",
    "    header = line\n",
    "    seq = next(FILE)\n",
    "    seq = seq.rstrip()\n",
    "    plus = next(FILE)\n",
    "    quality = next(FILE)\n",
    "    #sliding window\n",
    "    for i in range(0, len(seq) - kmer_length + 1):\n",
    "       kmer = seq[i:i + kmer_length]\n",
    "       if kmer in kmers:\n",
    "          kmers[kmer] += 1\n",
    "          kmers[rev_comp(kmer)] += 1\n",
    "\n",
    "       else:\n",
    "          kmers[kmer] = 1\n",
    "          kmers[rev_comp(kmer)] = 1\n",
    "   return(kmers)\n",
    "\n",
    "######################## End of function definitions #################################\n",
    "kmers_dict = kmer_count(\"data/lambda.r1.e0.2.fq\", 31)\n",
    "print(len(kmers_dict), 'kmers gathered in the dictionary')\n",
    "\n",
    "#########################################################################################\n",
    "kmer_count_list = []\n",
    "for kmer in kmers_dict:\n",
    "        kmer_count_list.append(kmers_dict[kmer])\n",
    "kmer_count_list = sorted(kmer_count_list)\n",
    "#List of all of the counts of how many times kmers appear in parent dictionary\n",
    "\n",
    "kmer_count_abundance = {}\n",
    "for i in range(min(kmer_count_list), max(kmer_count_list)+1):\n",
    "        tempcount = kmer_count_list.count(i)\n",
    "        kmer_count_abundance[i] = tempcount\n",
    "#Create a dictionary of all of the kmer appearance counts as keys and their abundances as the values\n",
    "\n",
    "min_kmer_abun = max(kmer_count_abundance.values())*100\n",
    "for key, value in sorted(kmer_count_abundance.items(), key = lambda x: x[0]):\n",
    "        if value < min_kmer_abun:\n",
    "                min_kmer_abun = value\n",
    "        else:\n",
    "                first_infl_point = key-1\n",
    "                print(first_infl_point)\n",
    "                break\n",
    "#Find the first inflection point in the histogram and store it as 'cutoff' in order to create the normal distribution\n",
    "\n",
    "freq_list_normaldist = []\n",
    "for key, value in sorted(kmers_dict.items(), key = lambda x: x[0]):\n",
    "        if value >= first_infl_point:\n",
    "                freq_list_normaldist.append(value)\n",
    "#Create the frequency list using the new inflection point and then find the 95% CI of the distribution\n",
    "\n",
    "normal_dist_mean = sum(freq_list_normaldist)/len(freq_list_normaldist)\n",
    "normal_dist_std = st.stdev(freq_list_normaldist)\n",
    "bound1_key = int(normal_dist_mean - (3*normal_dist_std))\n",
    "bound2_key = int(normal_dist_mean + (3*normal_dist_std))\n",
    "dist_kmer = []\n",
    "for kmer in kmers_dict:\n",
    "        if kmers_dict[kmer] > bound1_key and kmers_dict[kmer] < bound2_key:\n",
    "                dist_kmer.append(kmers_dict[kmer])\n",
    "print(bound1_key,bound2_key)\n",
    "plt.hist(kmers_dict.values())\n",
    "plt.plot()\n",
    "plt.show()\n",
    "plt.hist(dist_kmer, bins = (bound2_key - bound1_key-1))\n",
    "plt.plot()\n",
    "plt.show()\n",
    "#plt.savefig('graphrealfreqy.png')"
   ]
  },
  {
   "cell_type": "code",
   "execution_count": null,
   "metadata": {},
   "outputs": [],
   "source": []
  }
 ],
 "metadata": {
  "kernelspec": {
   "display_name": "Python 3",
   "language": "python",
   "name": "python3"
  },
  "language_info": {
   "codemirror_mode": {
    "name": "ipython",
    "version": 3
   },
   "file_extension": ".py",
   "mimetype": "text/x-python",
   "name": "python",
   "nbconvert_exporter": "python",
   "pygments_lexer": "ipython3",
   "version": "3.7.0"
  }
 },
 "nbformat": 4,
 "nbformat_minor": 2
}
