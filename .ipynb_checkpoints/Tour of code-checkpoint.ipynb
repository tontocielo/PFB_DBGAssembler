{
 "cells": [
  {
   "cell_type": "markdown",
   "metadata": {},
   "source": [
    "# Goal: Assemble the genome of lambda phage/S. aureus using de Bruijn graph"
   ]
  },
  {
   "cell_type": "markdown",
   "metadata": {},
   "source": [
    "### taking information from the (fancy) command line and importing the module"
   ]
  },
  {
   "cell_type": "code",
   "execution_count": null,
   "metadata": {},
   "outputs": [],
   "source": [
    "#!/usr/bin/env python3\n",
    "# Usage:\n",
    "# contig.py <-i> <-k> <-c> \n",
    "# Options:\n",
    "#    -i = input 'fastq' or 'fq' file containing sequencing reads\n",
    "#    -k = kmer length. Default is 31\n",
    "#    -c = kmer frequency cut-off. If no value given, the cutoff will be selected by the assembler\n",
    "#    -o = output contigs in a fasta format\n",
    "#    -r = write report and statistics in a file\n",
    "\n",
    "import sys\n",
    "import getopt\n",
    "import re\n",
    "import matplotlib.pyplot as plt\n",
    "import statistics as st\n",
    "import numpy as np\n",
    "#--------------- Get options from the command line------------------------\n",
    "inputfile = ''\n",
    "kmer_length = 31\n",
    "cutoff = -1\n",
    "report = ''\n",
    "outfile = ''\n",
    "opts, argv = getopt.getopt(sys.argv[1:], 'hi:k:c:o:r:', ['help','ifile','kmer', 'cutoff', 'output', 'report'])\n",
    "for opt, arg in opts:\n",
    "    if opt in ('-h', '--help'):\n",
    "       # Print help \n",
    "       print('Program usage:')\n",
    "       print('assembler.py -i <inputfile> -k <kmer_length> -c <cutoff>')\n",
    "       print('\\t' + '-i/--ifile' + '\\t' + 'input file containing sequencing reads in the fastq format')\n",
    "       print('\\t' + '-k/--kmer' + '\\t' + 'kmer length. Default is 31')\n",
    "       print('\\t' + '-c/--cutoff' + '\\t' + 'manual cutoff. If no value given, cutoff is calculated by the assembler')\n",
    "       print('\\t' + '-o/--output' + '\\t' + 'output file for assembled contigs')\n",
    "       print('\\t' + '-r/--report' + '\\t' + 'write report to a specified file')\n",
    "       sys.exit()\n",
    "    elif opt in ('-i','--ifile'): inputfile = arg\n",
    "    elif opt in ('-k','--kmer'): kmer_length = int(arg)\n",
    "    elif opt in ('-c','--cutoff'): cutoff = int(arg)\n",
    "    elif opt in ('-o', '--output'): outfile = arg\n",
    "    elif opt in ('-r', '--report'): report = arg\n",
    "\n"
   ]
  },
  {
   "cell_type": "markdown",
   "metadata": {},
   "source": [
    "### defining functions to generate kmer lib"
   ]
  },
  {
   "cell_type": "code",
   "execution_count": null,
   "metadata": {},
   "outputs": [],
   "source": [
    "def rev_comp(x):\n",
    "  output =  x.lower().replace('a', 'T').replace('t', 'A').replace('g','C').replace('c','G')[::-1]\n",
    "  return output\n",
    "\n",
    "#-----------------Count unique kmers---------------------------------------\n",
    "def kmer_count(inputfile, kmer_length):\n",
    "   FILE = open(inputfile, 'r')\n",
    "   if kmer_length % 2 == 0: raise ValueError('Kmer length cannot be an even number')\n",
    "   kmers = {}\n",
    "   for line in FILE:\n",
    "    header = line\n",
    "    seq = next(FILE)\n",
    "    seq = seq.rstrip()\n",
    "    plus = next(FILE)\n",
    "    quality = next(FILE)\n",
    "    #sliding window\n",
    "    for i in range(0, len(seq) - kmer_length + 1):\n",
    "       kmer = seq[i:i + kmer_length]\n",
    "       if kmer in kmers:\n",
    "          kmers[kmer] += 1\n",
    "          kmers[rev_comp(kmer)] += 1\n",
    "\n",
    "       else:\n",
    "          kmers[kmer] = 1\n",
    "          kmers[rev_comp(kmer)] = 1\n",
    "   return(kmers)\n",
    "\n",
    "######################## End of function definitions #################################\n",
    "if report != '':  REPORT =  open(report, 'w')\n",
    "if outfile != '': ASSEMBLY = open(outfile, 'w')\n",
    "\n",
    "kmers_dict = kmer_count(inputfile, kmer_length)\n",
    "print(len(kmers_dict), 'kmers gathered in the dictionary')\n",
    "if report != '': REPORT.write(str(len(kmers_dict)) + '\\t' + 'kmers gathered in the dictionary' + '\\n')"
   ]
  },
  {
   "cell_type": "markdown",
   "metadata": {},
   "source": [
    "### defining functions to determine the cutoff"
   ]
  },
  {
   "cell_type": "code",
   "execution_count": null,
   "metadata": {},
   "outputs": [],
   "source": [
    "def inflection(kmers_dict):\n",
    "   kmer_count_list = []\n",
    "   for kmer in kmers_dict:  kmer_count_list.append(kmers_dict[kmer])\n",
    "   kmer_count_list = sorted(kmer_count_list)\n",
    "   print('kmer_count_list populated')\n",
    "   #List of all of the counts of how many times kmers appear in parent dictionary\n",
    "\n",
    "   kmer_count_abundance = {}\n",
    "   for i in range(min(kmer_count_list), max(kmer_count_list)+1):\n",
    "     tempcount = kmer_count_list.count(i)\n",
    "     kmer_count_abundance[i] = tempcount\n",
    "   print('kmer_count_abunfance populated')\n",
    "   #Create a dictionary of all of the kmer appearance counts as keys and their abundances as the values\n",
    "\n",
    "   min_kmer_abun = max(kmer_count_abundance.values())*100\n",
    "   for key, value in sorted(kmer_count_abundance.items(), key = lambda x: x[0]):\n",
    "        if value < min_kmer_abun:\n",
    "           min_kmer_abun = value\n",
    "        else:\n",
    "           first_infl_point = key-1\n",
    "           print(first_infl_point)\n",
    "           break\n",
    "   return first_infl_point"
   ]
  },
  {
   "cell_type": "markdown",
   "metadata": {},
   "source": [
    "### Applying the cutoff to the data (in the absence of a manual cutoff given at the command line)"
   ]
  },
  {
   "cell_type": "code",
   "execution_count": null,
   "metadata": {},
   "outputs": [],
   "source": [
    "#Find the first inflection point in the histogram and store it as 'cutoff' in order to create the normal distribution\n",
    "if cutoff < 0:\n",
    "   first_infl_point = inflection(kmers_dict)\n",
    "   freq_list_normaldist = []\n",
    "   for key, value in sorted(kmers_dict.items(), key = lambda x: x[0]):\n",
    "     if value >= first_infl_point:\n",
    "        freq_list_normaldist.append(value)\n",
    "   #Create the frequency list using the new inflection point and then find the 95% CI of the distribution\n",
    "\n",
    "   normal_dist_mean = sum(freq_list_normaldist)/len(freq_list_normaldist)\n",
    "   normal_dist_std = st.stdev(freq_list_normaldist)\n",
    "   bound1_key = int(normal_dist_mean - (3*normal_dist_std))\n",
    "   bound2_key = int(normal_dist_mean + (3*normal_dist_std))\n",
    "   print(bound1_key,bound2_key)\n",
    "   cutoff = bound1_key"
   ]
  },
  {
   "cell_type": "markdown",
   "metadata": {},
   "source": [
    "### assemble the contigs from the unique kmers"
   ]
  },
  {
   "cell_type": "code",
   "execution_count": null,
   "metadata": {},
   "outputs": [],
   "source": [
    "kmers_dict = {key:val for key, val in kmers_dict.items() if val >= cutoff}\n",
    "print(len(kmers_dict), 'kmers left in the dictionary after removing low frequency kmers')\n",
    "if report != '': REPORT.write(str(len(kmers_dict)) + '\\t' + 'kmers left in the dictionary after removing low frequency kmers' + '\\n')\n",
    "\n",
    "kmers_used = set()\n",
    "alphabet = ['A', 'G', 'C', 'T']\n",
    "contigs = []\n",
    "\n",
    "for kmer in kmers_dict:\n",
    "     if kmer in kmers_used: continue  # Don't reuse kmers\n",
    "\n",
    "     kmers_used.add(kmer)             # Put kmers in the 'used' category so they would not be counted or used for contig extension later\n",
    "     kmers_used.add(rev_comp(kmer))\n",
    "\n",
    "     direction = 'right'\n",
    "     # Begin with the random kmer as a seed for extension\n",
    "     contig = kmer\n",
    "\n",
    "     # Extend contig in the right direction           \n",
    "     while direction == 'right':\n",
    "         prefix = contig[-kmer_length + 1:]\n",
    "         extensions = {}\n",
    "         counter = 0\n",
    "\n",
    "         for i in alphabet:            # Construct 4 possible kmers to extend the contig\n",
    "             new_kmer = prefix + i\n",
    "             extensions[new_kmer] = 0\n",
    "             if new_kmer in kmers_dict and new_kmer not in kmers_used:\n",
    "                counter += 1\n",
    "                extensions[new_kmer] += 1\n",
    "\n",
    "         if counter == 1:              # If there is only 1 way to extend the contig, do it\n",
    "            for record in extensions:\n",
    "                if extensions[record] == 1:\n",
    "                   contig = contig + record[-1:]\n",
    "                   kmers_used.add(record)\n",
    "                   kmers_used.add(rev_comp(record))\n",
    "\n",
    "         else:\n",
    "             direction = 'left'\n",
    "     # proceed by extending in the opposite direction\n",
    "     while direction == 'left':\n",
    "         prefix = contig[0:kmer_length - 1]\n",
    "         extensions = {}\n",
    "         counter = 0\n",
    "\n",
    "         for i in alphabet:\n",
    "             new_kmer = i + prefix\n",
    "             extensions[new_kmer] = 0\n",
    "             if new_kmer in kmers_dict and new_kmer not in kmers_used:\n",
    "                counter += 1\n",
    "                extensions[new_kmer] += 1\n",
    "\n",
    "         if counter == 1:\n",
    "            for record in extensions:\n",
    "                if extensions[record] == 1:\n",
    "                   contig = record[0] + contig\n",
    "                   kmers_used.add(record)\n",
    "                   kmers_used.add(rev_comp(record))\n",
    "         else:\n",
    "            direction = 'stop'\n",
    "\n",
    "\n",
    "     contigs.append(contig)\n",
    "\n",
    "contigs = sorted(contigs, key = len, reverse = True)\n",
    "print(len(contigs))"
   ]
  },
  {
   "cell_type": "markdown",
   "metadata": {},
   "source": [
    "### write out the data and calculate stats"
   ]
  },
  {
   "cell_type": "code",
   "execution_count": null,
   "metadata": {},
   "outputs": [],
   "source": [
    "assembly_size = 0\n",
    "for i in range(len(contigs)): assembly_size += len(contigs[i])\n",
    "\n",
    "counter = 0\n",
    "n50 = 0\n",
    "l50 = 0\n",
    "for i in range(len(contigs)):\n",
    "  counter += len(contigs[i])\n",
    "  if counter >= assembly_size / 2:\n",
    "     n50 = len(contigs[i])\n",
    "     l50 = i + 1\n",
    "     break\n",
    "print('N50', n50)\n",
    "print('L50', l50)\n",
    "\n",
    "if report != '' : REPORT.write('N50:' + '\\t' + str(n50) + '\\n') # Write stats to the report\n",
    "if report != '' : REPORT.write('L50:' + '\\t' + str(l50) + '\\n')\n",
    "if report != '' : REPORT.write(str(kmer_length) + '\\t' + str(assembly_size) + '\\n')\n",
    "if report != '' : REPORT.write(str(kmer_length) + '\\t' + str(len(contigs)) + '\\n')\n",
    "if report != '' : REPORT.write(str(cutoff) + '\\t' + str(assembly_size) + '\\n')\n",
    "if report != '' : REPORT.write(str(cutoff) + '\\t' + str(len(contigs)) + '\\n')\n",
    "\n",
    "for i in range(len(contigs)):\n",
    "  print('>contig' + str(i) + '\\t' + 'length: ' + str(len(contigs[i])))\n",
    "  record =  re.findall(r'\\w{1,100}', contigs[i])                         #\n",
    "  record = '\\n'.join(record)                                    #\n",
    "  if outfile != '' : ASSEMBLY.write('>contig' + str(i) + '\\n')  # Write contigs to the file, wrap line if they are longer than 100 nt\n",
    "  if outfile != '' : ASSEMBLY.write(record + '\\n')  "
   ]
  }
 ],
 "metadata": {
  "kernelspec": {
   "display_name": "Python 3",
   "language": "python",
   "name": "python3"
  },
  "language_info": {
   "codemirror_mode": {
    "name": "ipython",
    "version": 3
   },
   "file_extension": ".py",
   "mimetype": "text/x-python",
   "name": "python",
   "nbconvert_exporter": "python",
   "pygments_lexer": "ipython3",
   "version": "3.7.0"
  }
 },
 "nbformat": 4,
 "nbformat_minor": 2
}
