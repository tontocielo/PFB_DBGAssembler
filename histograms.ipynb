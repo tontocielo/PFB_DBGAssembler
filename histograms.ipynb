{
 "cells": [
  {
   "cell_type": "markdown",
   "metadata": {},
   "source": [
    "### Plotting the distribution of kmers for the lambda genome (kmer length 31, genome size ~48,500bp)"
   ]
  },
  {
   "cell_type": "code",
   "execution_count": 39,
   "metadata": {},
   "outputs": [
    {
     "data": {
      "text/plain": [
       "[]"
      ]
     },
     "execution_count": 39,
     "metadata": {},
     "output_type": "execute_result"
    },
    {
     "data": {
      "image/png": "[encoded data removed]",
      "text/plain": [
       "<Figure size 432x288 with 1 Axes>"
      ]
     },
     "metadata": {
      "needs_background": "light"
     },
     "output_type": "display_data"
    }
   ],
   "source": [
    "#!/usr/bin/env python3\n",
    "\n",
    "import sys\n",
    "import matplotlib.pyplot as plt\n",
    "import numpy as np\n",
    "import statistics as st\n",
    "\n",
    "kmer_length = 31\n",
    "\n",
    "\n",
    "def kmer_count(filename, kmer_length):\n",
    "   FILE = open(filename, 'r')\n",
    "   kmers = {}\n",
    "   for line in FILE:\n",
    "    header = line\n",
    "    seq = next(FILE)\n",
    "    seq = seq.rstrip()\n",
    "    plus = next(FILE)\n",
    "    quality = next(FILE)\n",
    "    #sliding window\n",
    "    for i in range(0, len(seq) - kmer_length + 1):\n",
    "       kmer = seq[i:i + kmer_length]\n",
    "       if kmer in kmers:  kmers[kmer] += 1\n",
    "       else:  kmers[kmer] = 1\n",
    "   return(kmers)\n",
    "\n",
    "kmers = kmer_count('./data/lambda.r2.no_error.fq', 31)\n",
    "#Kmers original dictionary\n",
    "\n",
    "\n",
    "plt.xlabel('kmer count')\n",
    "plt.ylabel('count of kmer count')\n",
    "plt.hist(kmers.values())\n",
    "plt.plot()\n",
    "\n",
    "#Plot the new dictionary with adjusted bin size"
   ]
  },
  {
   "cell_type": "markdown",
   "metadata": {},
   "source": [
    "### Removing sequence errors (kmers that are represented only once) and fitting remaining kmers to a normal distribution with 95% CI"
   ]
  },
  {
   "cell_type": "code",
   "execution_count": 40,
   "metadata": {},
   "outputs": [
    {
     "name": "stdout",
     "output_type": "stream",
     "text": [
      "6\n"
     ]
    },
    {
     "data": {
      "image/png": "[encoded data removed]",
      "text/plain": [
       "<Figure size 432x288 with 1 Axes>"
      ]
     },
     "metadata": {
      "needs_background": "light"
     },
     "output_type": "display_data"
    }
   ],
   "source": [
    "#!/usr/bin/env python3\n",
    "\n",
    "\n",
    "kmer_count_list = []\n",
    "for kmer in kmers:\n",
    "        kmer_count_list.append(kmers[kmer])\n",
    "kmer_count_list = sorted(kmer_count_list)\n",
    "#List of all of the counts of how many times kmers appear in parent dictionary\n",
    "\n",
    "kmer_count_abundance = {}\n",
    "for i in range(min(kmer_count_list), max(kmer_count_list)+1):\n",
    "        tempcount = kmer_count_list.count(i)\n",
    "        kmer_count_abundance[i] = tempcount\n",
    "#Create a dictionary of all of the kmer appearance counts as keys and their abundances as the values\n",
    "\n",
    "min_kmer_abun = max(kmer_count_abundance.values())*100\n",
    "for key, value in sorted(kmer_count_abundance.items(), key = lambda x: x[0]):\n",
    "        if value < min_kmer_abun:\n",
    "                min_kmer_abun = value\n",
    "        else:\n",
    "                first_infl_point = key-1\n",
    "                print(first_infl_point)\n",
    "                break\n",
    "#Find the first inflection point in the histogram and store it as 'cutoff' in order to create the normal distribution\n",
    "\n",
    "\n",
    "freq_list_normaldist = []\n",
    "for key, value in sorted(kmers.items(), key = lambda x: x[0]):\n",
    "        if value >= first_infl_point:\n",
    "                freq_list_normaldist.append(value)\n",
    "#Create the frequency list using the new inflection point and then find the 95% CI of the distribution\n",
    "\n",
    "normal_dist_mean = sum(freq_list_normaldist)/len(freq_list_normaldist)\n",
    "normal_dist_std = st.stdev(freq_list_normaldist)\n",
    "bound1_key = int(normal_dist_mean - (2*normal_dist_std))\n",
    "bound2_key = int(normal_dist_mean + (2*normal_dist_std))\n",
    "#Found the mean and standard deviations of the adjusted distribution and used them to find te 95% confidence interval\n",
    "\n",
    "dist_kmer = []\n",
    "for kmer in kmers:\n",
    "        if kmers[kmer] > bound1_key and kmers[kmer] < bound2_key:\n",
    "                dist_kmer.append(kmers[kmer])\n",
    "#Create a new dictionary of only kmers within the 95% CI of the adjusted distribution\n",
    "plt.xlabel('kmer count')\n",
    "plt.ylabel('count of kmer count')\n",
    "plt.hist(dist_kmer, bins = (bound2_key - bound1_key-1))\n",
    "plt.plot()\n",
    "plt.savefig('graphrealfreqy.png')\n",
    "#Plot the new dictionary with adjusted bin size"
   ]
  },
  {
   "cell_type": "markdown",
   "metadata": {},
   "source": [
    "### Fitting remaining kmers to a normal distribution with 99% CI"
   ]
  },
  {
   "cell_type": "code",
   "execution_count": 41,
   "metadata": {},
   "outputs": [
    {
     "data": {
      "image/png": "[encoded data removed]",
      "text/plain": [
       "<Figure size 432x288 with 1 Axes>"
      ]
     },
     "metadata": {
      "needs_background": "light"
     },
     "output_type": "display_data"
    }
   ],
   "source": [
    "#!/usr/bin/env python3\n",
    "\n",
    "normal_dist_mean = sum(freq_list_normaldist)/len(freq_list_normaldist)\n",
    "normal_dist_std = st.stdev(freq_list_normaldist)\n",
    "bound1_key = int(normal_dist_mean - (3*normal_dist_std))\n",
    "bound2_key = int(normal_dist_mean + (3*normal_dist_std))\n",
    "#Found the mean and standard deviations of the adjusted distribution and used them to find te 95% confidence interval\n",
    "\n",
    "dist_kmer = []\n",
    "for kmer in kmers:\n",
    "        if kmers[kmer] > bound1_key and kmers[kmer] < bound2_key:\n",
    "                dist_kmer.append(kmers[kmer])\n",
    "#Create a new dictionary of only kmers within the 95% CI of the adjusted distribution\n",
    "\n",
    "plt.xlabel('kmer count')\n",
    "plt.ylabel('count of kmer count')\n",
    "plt.hist(dist_kmer, bins = (bound2_key - bound1_key-1))\n",
    "plt.plot()\n",
    "plt.savefig('graphrealfreqy.png')\n",
    "#Plot the new dictionary with adjusted bin size"
   ]
  },
  {
   "cell_type": "code",
   "execution_count": null,
   "metadata": {},
   "outputs": [],
   "source": []
  }
 ],
 "metadata": {
  "kernelspec": {
   "display_name": "Python 3",
   "language": "python",
   "name": "python3"
  },
  "language_info": {
   "codemirror_mode": {
    "name": "ipython",
    "version": 3
   },
   "file_extension": ".py",
   "mimetype": "text/x-python",
   "name": "python",
   "nbconvert_exporter": "python",
   "pygments_lexer": "ipython3",
   "version": "3.7.0"
  }
 },
 "nbformat": 4,
 "nbformat_minor": 2
}
